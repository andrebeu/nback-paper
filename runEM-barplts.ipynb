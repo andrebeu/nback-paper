{
 "cells": [
  {
   "cell_type": "code",
   "execution_count": null,
   "id": "7e1651e8",
   "metadata": {},
   "outputs": [],
   "source": [
    "import os\n",
    "import torch as tr\n",
    "import numpy as np\n",
    "from matplotlib import pyplot as plt\n",
    "import itertools\n",
    "\n",
    "from sklearn.metrics.pairwise import cosine_similarity\n",
    "import time\n",
    "\n",
    "from utilsEM import *\n",
    "\n",
    "%load_ext autoreload\n",
    "%autoreload 2"
   ]
  },
  {
   "cell_type": "code",
   "execution_count": null,
   "id": "daf05871",
   "metadata": {},
   "outputs": [],
   "source": [
    "tstamp = time.perf_counter_ns()"
   ]
  },
  {
   "cell_type": "code",
   "execution_count": null,
   "id": "861be29a",
   "metadata": {
    "scrolled": true
   },
   "outputs": [],
   "source": [
    "neps = 10 # 10 \n",
    "tsteps = 45 # 45\n",
    "\n",
    "argsD = {\n",
    "  'smtemp':8,\n",
    "  'stim_weight':0.05,\n",
    "  'hrate':0.04\n",
    "}\n",
    "mtag = \"-\".join([\"%s_%s\"%(i,j) for i,j in argsD.items()])\n",
    "\n",
    "acc,score = run_EMexp(neps,tsteps,argsD)"
   ]
  },
  {
   "cell_type": "markdown",
   "id": "ab16718f",
   "metadata": {},
   "source": [
    "### performance metrics "
   ]
  },
  {
   "cell_type": "code",
   "execution_count": null,
   "id": "7442a048",
   "metadata": {},
   "outputs": [],
   "source": [
    "hits_stderr = np.concatenate((score.mean(2).std(-1)/np.sqrt(neps))[:,(0,1)])\n",
    "correj_stderr = np.concatenate((score.mean(2).std(-1)/np.sqrt(neps))[:,(2,3)])\n",
    "d,s = paper_dprime(\n",
    "  np.concatenate(score.mean(2)[:,(0,1)]),\n",
    "  np.concatenate(score.mean(2)[:,(2,3)])\n",
    ")\n",
    "print(d.shape,s.shape)\n",
    "dprime_stderr = d.std(-1)/np.sqrt(neps)\n",
    "bias_stderr = s.std(-1)/np.sqrt(neps)"
   ]
  },
  {
   "cell_type": "code",
   "execution_count": null,
   "id": "d93a201b",
   "metadata": {},
   "outputs": [],
   "source": [
    "# 2back-target, 2back-lure, 3back-target, 3back-lure\n",
    "hits = np.concatenate(acc[:,(0,1)]) \n",
    "correj = np.concatenate(acc[:,(2,3)])\n",
    "dprime = np.zeros(4)\n",
    "bias = np.zeros(4)\n",
    "for i in range(4):\n",
    "  d,s = paper_dprime(hits[i], 1-correj[i])\n",
    "  dprime[i]=d\n",
    "  bias[i]=s\n"
   ]
  },
  {
   "cell_type": "code",
   "execution_count": null,
   "id": "ba602dff",
   "metadata": {
    "scrolled": true
   },
   "outputs": [],
   "source": [
    "f,axar = plt.subplots(2,2,figsize=(15,8));axar=axar.reshape(-1)\n",
    "cL = ['blue','darkblue','lightgreen','forestgreen']\n",
    "labL = ['2b,ctrl','2b,lure','3b,ctrl','3b,lure']\n",
    "\n",
    "# correct reject\n",
    "ax = axar[0]\n",
    "ax.set_title('correct rejection')\n",
    "ax.bar(range(4),correj,color=cL,yerr=correj_stderr)\n",
    "\n",
    "# hits\n",
    "ax = axar[1]\n",
    "ax.set_title('hits')\n",
    "ax.bar(range(4),hits,color=cL,yerr=hits_stderr)\n",
    "\n",
    "# \n",
    "ax = axar[2]\n",
    "ax.set_title('dprime')\n",
    "ax.bar(range(4),dprime,color=cL,yerr=dprime_stderr)\n",
    "\n",
    "#\n",
    "ax = axar[3]\n",
    "ax.set_title('bias')\n",
    "ax.bar(range(4),bias,color=cL,yerr=bias_stderr)\n",
    "\n",
    "## \n",
    "for ax in axar[:2]:\n",
    "  ax.set_xticks(np.arange(4))\n",
    "  ax.set_xticklabels(labL)\n",
    "  ax.set_ylim(0,1)\n",
    "\n",
    "plt.savefig('figures/EMmetrics-%s-t%i.jpg'%(mtag,tstamp))\n",
    "plt.savefig('figures/EMmetrics_yerr-%s-t%i.svg'%(mtag,tstamp))"
   ]
  },
  {
   "cell_type": "code",
   "execution_count": null,
   "id": "95513a3b",
   "metadata": {},
   "outputs": [],
   "source": []
  }
 ],
 "metadata": {
  "kernelspec": {
   "display_name": "Python 3",
   "language": "python",
   "name": "python3"
  },
  "language_info": {
   "codemirror_mode": {
    "name": "ipython",
    "version": 3
   },
   "file_extension": ".py",
   "mimetype": "text/x-python",
   "name": "python",
   "nbconvert_exporter": "python",
   "pygments_lexer": "ipython3",
   "version": "3.8.8"
  }
 },
 "nbformat": 4,
 "nbformat_minor": 5
}
