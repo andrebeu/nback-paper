{
 "cells": [
  {
   "cell_type": "code",
   "execution_count": null,
   "metadata": {},
   "outputs": [],
   "source": [
    "import os\n",
    "import torch as tr\n",
    "import numpy as np\n",
    "from matplotlib import pyplot as plt\n",
    "from sklearn.metrics.pairwise import cosine_similarity\n",
    "from utilsWM import *\n",
    "%load_ext autoreload\n",
    "%autoreload 2"
   ]
  },
  {
   "cell_type": "code",
   "execution_count": null,
   "metadata": {},
   "outputs": [],
   "source": [
    "from utilsWM import run_model_for_epochs, plot_train_accuracy, eval_by_ttype, plot_accuracy_by_trial_type \n",
    "\n",
    "# main wrapper \n",
    "def train_net_and_plot_accuracy(neps, seed, model_path, figure_path):\n",
    "    \"\"\" \n",
    "    main wrapper for running experiment and plotting\n",
    "    \"\"\"\n",
    "    \n",
    "    np.random.seed(seed)\n",
    "    tr.random.manual_seed(seed)\n",
    "    \n",
    "    ## setup task\n",
    "    ssizeL = [2, 3] \n",
    "    sample_fn = lambda match,slure,clure: lambda S,C,N: single_nback_comparison(S,C,N,\n",
    "              pr_match=match,pr_stim_lure=slure,pr_context_lure=clure\n",
    "              )\n",
    "\n",
    "    taskintL = [0,1]\n",
    "    taskL_tr = [\n",
    "         [taskintL[0],sample_fn(PMATCH,PSLURE,PCLURE),ssizeL[0]],\n",
    "         [taskintL[1],sample_fn(PMATCH,PSLURE,PCLURE),ssizeL[1]],\n",
    "        ]\n",
    "\n",
    "    # init net\n",
    "    indim = 2 * (CDIM + SDIM)\n",
    "    hiddim = SDIM * 4\n",
    "    net = FFWM(indim,hiddim)\n",
    "\n",
    "    # train net\n",
    "    score_tr, ttype = run_model_for_epochs(net,taskL_tr,\n",
    "    training=True,neps_per_task=neps,\n",
    "    )\n",
    "    \n",
    "    # save trained model\n",
    "    np.save(model_path + \"/train-score\", score_tr)\n",
    "    tr.save(net.state_dict(), model_path + \"/trained-net.pt\")\n",
    "\n",
    "    # generates evaluation plots\n",
    "    plot_train_accuracy(score_tr, ttype, ssizeL, figure_path)\n",
    "    scores_by_ttype = eval_by_ttype(net, sample_fn, taskintL, ssizeL, neps=1000)\n",
    "    plot_accuracy_by_trial_type(scores_by_ttype, taskintL, ssizeL, figure_path)\n",
    "\n",
    "    return net\n",
    "\n"
   ]
  },
  {
   "cell_type": "code",
   "execution_count": null,
   "metadata": {},
   "outputs": [],
   "source": [
    "# run \n",
    "n_training_eps = 1000 ## 1000000\n",
    "seed = 0 ## 0\n",
    "\n",
    "figure_path = \"OUTPUT_PATH\"\n",
    "\n",
    "ffwm = train_net_and_plot_accuracy(neps=n_training_eps, seed=seed,\n",
    "            model_path=model_path, figure_path=figure_path)\n"
   ]
  }
 ],
 "metadata": {
  "kernelspec": {
   "display_name": "Python 3",
   "language": "python",
   "name": "python3"
  },
  "language_info": {
   "codemirror_mode": {
    "name": "ipython",
    "version": 3
   },
   "file_extension": ".py",
   "mimetype": "text/x-python",
   "name": "python",
   "nbconvert_exporter": "python",
   "pygments_lexer": "ipython3",
   "version": "3.8.8"
  }
 },
 "nbformat": 4,
 "nbformat_minor": 4
}
